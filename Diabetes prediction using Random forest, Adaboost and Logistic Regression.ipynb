{
 "cells": [
  {
   "cell_type": "code",
   "execution_count": 2,
   "id": "44f46ebd",
   "metadata": {},
   "outputs": [],
   "source": [
    "import pandas as pd\n",
    "import numpy as np\n",
    "import matplotlib.pyplot as plt\n",
    "import seaborn as sns\n",
    "\n",
    "%matplotlib inline\n",
    "sns.set_style(\"whitegrid\")\n",
    "plt.style.use(\"fivethirtyeight\")\n"
   ]
  },
  {
   "cell_type": "code",
   "execution_count": 3,
   "id": "a85649ef",
   "metadata": {},
   "outputs": [
    {
     "data": {
      "text/html": [
       "<div>\n",
       "<style scoped>\n",
       "    .dataframe tbody tr th:only-of-type {\n",
       "        vertical-align: middle;\n",
       "    }\n",
       "\n",
       "    .dataframe tbody tr th {\n",
       "        vertical-align: top;\n",
       "    }\n",
       "\n",
       "    .dataframe thead th {\n",
       "        text-align: right;\n",
       "    }\n",
       "</style>\n",
       "<table border=\"1\" class=\"dataframe\">\n",
       "  <thead>\n",
       "    <tr style=\"text-align: right;\">\n",
       "      <th></th>\n",
       "      <th>age</th>\n",
       "      <th>gender</th>\n",
       "      <th>polyuria</th>\n",
       "      <th>polydipsia</th>\n",
       "      <th>sudden_weight_loss</th>\n",
       "      <th>weakness</th>\n",
       "      <th>polyphagia</th>\n",
       "      <th>genital_thrush</th>\n",
       "      <th>visual_blurring</th>\n",
       "      <th>itching</th>\n",
       "      <th>irritability</th>\n",
       "      <th>delayed_healing</th>\n",
       "      <th>partial_paresis</th>\n",
       "      <th>muscle_stiffness</th>\n",
       "      <th>alopecia</th>\n",
       "      <th>obesity</th>\n",
       "      <th>class</th>\n",
       "    </tr>\n",
       "  </thead>\n",
       "  <tbody>\n",
       "    <tr>\n",
       "      <th>515</th>\n",
       "      <td>39</td>\n",
       "      <td>Female</td>\n",
       "      <td>Yes</td>\n",
       "      <td>Yes</td>\n",
       "      <td>Yes</td>\n",
       "      <td>No</td>\n",
       "      <td>Yes</td>\n",
       "      <td>No</td>\n",
       "      <td>No</td>\n",
       "      <td>Yes</td>\n",
       "      <td>No</td>\n",
       "      <td>Yes</td>\n",
       "      <td>Yes</td>\n",
       "      <td>No</td>\n",
       "      <td>No</td>\n",
       "      <td>No</td>\n",
       "      <td>Positive</td>\n",
       "    </tr>\n",
       "    <tr>\n",
       "      <th>516</th>\n",
       "      <td>48</td>\n",
       "      <td>Female</td>\n",
       "      <td>Yes</td>\n",
       "      <td>Yes</td>\n",
       "      <td>Yes</td>\n",
       "      <td>Yes</td>\n",
       "      <td>Yes</td>\n",
       "      <td>No</td>\n",
       "      <td>No</td>\n",
       "      <td>Yes</td>\n",
       "      <td>Yes</td>\n",
       "      <td>Yes</td>\n",
       "      <td>Yes</td>\n",
       "      <td>No</td>\n",
       "      <td>No</td>\n",
       "      <td>No</td>\n",
       "      <td>Positive</td>\n",
       "    </tr>\n",
       "    <tr>\n",
       "      <th>517</th>\n",
       "      <td>58</td>\n",
       "      <td>Female</td>\n",
       "      <td>Yes</td>\n",
       "      <td>Yes</td>\n",
       "      <td>Yes</td>\n",
       "      <td>Yes</td>\n",
       "      <td>Yes</td>\n",
       "      <td>No</td>\n",
       "      <td>Yes</td>\n",
       "      <td>No</td>\n",
       "      <td>No</td>\n",
       "      <td>No</td>\n",
       "      <td>Yes</td>\n",
       "      <td>Yes</td>\n",
       "      <td>No</td>\n",
       "      <td>Yes</td>\n",
       "      <td>Positive</td>\n",
       "    </tr>\n",
       "    <tr>\n",
       "      <th>518</th>\n",
       "      <td>32</td>\n",
       "      <td>Female</td>\n",
       "      <td>No</td>\n",
       "      <td>No</td>\n",
       "      <td>No</td>\n",
       "      <td>Yes</td>\n",
       "      <td>No</td>\n",
       "      <td>No</td>\n",
       "      <td>Yes</td>\n",
       "      <td>Yes</td>\n",
       "      <td>No</td>\n",
       "      <td>Yes</td>\n",
       "      <td>No</td>\n",
       "      <td>No</td>\n",
       "      <td>Yes</td>\n",
       "      <td>No</td>\n",
       "      <td>Negative</td>\n",
       "    </tr>\n",
       "    <tr>\n",
       "      <th>519</th>\n",
       "      <td>42</td>\n",
       "      <td>Male</td>\n",
       "      <td>No</td>\n",
       "      <td>No</td>\n",
       "      <td>No</td>\n",
       "      <td>No</td>\n",
       "      <td>No</td>\n",
       "      <td>No</td>\n",
       "      <td>No</td>\n",
       "      <td>No</td>\n",
       "      <td>No</td>\n",
       "      <td>No</td>\n",
       "      <td>No</td>\n",
       "      <td>No</td>\n",
       "      <td>No</td>\n",
       "      <td>No</td>\n",
       "      <td>Negative</td>\n",
       "    </tr>\n",
       "  </tbody>\n",
       "</table>\n",
       "</div>"
      ],
      "text/plain": [
       "     age  gender polyuria polydipsia sudden_weight_loss weakness polyphagia  \\\n",
       "515   39  Female      Yes        Yes                Yes       No        Yes   \n",
       "516   48  Female      Yes        Yes                Yes      Yes        Yes   \n",
       "517   58  Female      Yes        Yes                Yes      Yes        Yes   \n",
       "518   32  Female       No         No                 No      Yes         No   \n",
       "519   42    Male       No         No                 No       No         No   \n",
       "\n",
       "    genital_thrush visual_blurring itching irritability delayed_healing  \\\n",
       "515             No              No     Yes           No             Yes   \n",
       "516             No              No     Yes          Yes             Yes   \n",
       "517             No             Yes      No           No              No   \n",
       "518             No             Yes     Yes           No             Yes   \n",
       "519             No              No      No           No              No   \n",
       "\n",
       "    partial_paresis muscle_stiffness alopecia obesity     class  \n",
       "515             Yes               No       No      No  Positive  \n",
       "516             Yes               No       No      No  Positive  \n",
       "517             Yes              Yes       No     Yes  Positive  \n",
       "518              No               No      Yes      No  Negative  \n",
       "519              No               No       No      No  Negative  "
      ]
     },
     "execution_count": 3,
     "metadata": {},
     "output_type": "execute_result"
    }
   ],
   "source": [
    "df = pd.read_csv(\"Early stage diabetes risk prediction using machine learning.csv\")\n",
    "df.head()\n",
    "df.tail()"
   ]
  },
  {
   "cell_type": "code",
   "execution_count": 4,
   "id": "1ee8d410",
   "metadata": {},
   "outputs": [],
   "source": [
    "scores = {}"
   ]
  },
  {
   "cell_type": "code",
   "execution_count": 5,
   "id": "46b9df7a",
   "metadata": {},
   "outputs": [
    {
     "name": "stdout",
     "output_type": "stream",
     "text": [
      "<class 'pandas.core.frame.DataFrame'>\n",
      "RangeIndex: 520 entries, 0 to 519\n",
      "Data columns (total 17 columns):\n",
      " #   Column              Non-Null Count  Dtype \n",
      "---  ------              --------------  ----- \n",
      " 0   age                 520 non-null    int64 \n",
      " 1   gender              520 non-null    object\n",
      " 2   polyuria            520 non-null    object\n",
      " 3   polydipsia          520 non-null    object\n",
      " 4   sudden_weight_loss  520 non-null    object\n",
      " 5   weakness            520 non-null    object\n",
      " 6   polyphagia          520 non-null    object\n",
      " 7   genital_thrush      520 non-null    object\n",
      " 8   visual_blurring     520 non-null    object\n",
      " 9   itching             520 non-null    object\n",
      " 10  irritability        520 non-null    object\n",
      " 11  delayed_healing     520 non-null    object\n",
      " 12  partial_paresis     520 non-null    object\n",
      " 13  muscle_stiffness    520 non-null    object\n",
      " 14  alopecia            520 non-null    object\n",
      " 15  obesity             520 non-null    object\n",
      " 16  class               520 non-null    object\n",
      "dtypes: int64(1), object(16)\n",
      "memory usage: 69.2+ KB\n"
     ]
    }
   ],
   "source": [
    "df.info()"
   ]
  },
  {
   "cell_type": "code",
   "execution_count": 6,
   "id": "ed47a457",
   "metadata": {},
   "outputs": [
    {
     "data": {
      "text/plain": [
       "age                   0\n",
       "gender                0\n",
       "polyuria              0\n",
       "polydipsia            0\n",
       "sudden_weight_loss    0\n",
       "weakness              0\n",
       "polyphagia            0\n",
       "genital_thrush        0\n",
       "visual_blurring       0\n",
       "itching               0\n",
       "irritability          0\n",
       "delayed_healing       0\n",
       "partial_paresis       0\n",
       "muscle_stiffness      0\n",
       "alopecia              0\n",
       "obesity               0\n",
       "class                 0\n",
       "dtype: int64"
      ]
     },
     "execution_count": 6,
     "metadata": {},
     "output_type": "execute_result"
    }
   ],
   "source": [
    "df.isnull().sum()"
   ]
  },
  {
   "cell_type": "code",
   "execution_count": 7,
   "id": "9677606b",
   "metadata": {},
   "outputs": [
    {
     "data": {
      "text/html": [
       "<div>\n",
       "<style scoped>\n",
       "    .dataframe tbody tr th:only-of-type {\n",
       "        vertical-align: middle;\n",
       "    }\n",
       "\n",
       "    .dataframe tbody tr th {\n",
       "        vertical-align: top;\n",
       "    }\n",
       "\n",
       "    .dataframe thead th {\n",
       "        text-align: right;\n",
       "    }\n",
       "</style>\n",
       "<table border=\"1\" class=\"dataframe\">\n",
       "  <thead>\n",
       "    <tr style=\"text-align: right;\">\n",
       "      <th></th>\n",
       "      <th>age</th>\n",
       "    </tr>\n",
       "  </thead>\n",
       "  <tbody>\n",
       "    <tr>\n",
       "      <th>count</th>\n",
       "      <td>520.00</td>\n",
       "    </tr>\n",
       "    <tr>\n",
       "      <th>mean</th>\n",
       "      <td>48.03</td>\n",
       "    </tr>\n",
       "    <tr>\n",
       "      <th>std</th>\n",
       "      <td>12.15</td>\n",
       "    </tr>\n",
       "    <tr>\n",
       "      <th>min</th>\n",
       "      <td>16.00</td>\n",
       "    </tr>\n",
       "    <tr>\n",
       "      <th>25%</th>\n",
       "      <td>39.00</td>\n",
       "    </tr>\n",
       "    <tr>\n",
       "      <th>50%</th>\n",
       "      <td>47.50</td>\n",
       "    </tr>\n",
       "    <tr>\n",
       "      <th>75%</th>\n",
       "      <td>57.00</td>\n",
       "    </tr>\n",
       "    <tr>\n",
       "      <th>max</th>\n",
       "      <td>90.00</td>\n",
       "    </tr>\n",
       "  </tbody>\n",
       "</table>\n",
       "</div>"
      ],
      "text/plain": [
       "         age\n",
       "count 520.00\n",
       "mean   48.03\n",
       "std    12.15\n",
       "min    16.00\n",
       "25%    39.00\n",
       "50%    47.50\n",
       "75%    57.00\n",
       "max    90.00"
      ]
     },
     "execution_count": 7,
     "metadata": {},
     "output_type": "execute_result"
    }
   ],
   "source": [
    "pd.set_option('display.float_format', '{:.2f}'.format)\n",
    "df.describe()"
   ]
  },
  {
   "cell_type": "markdown",
   "id": "04ee61b0",
   "metadata": {},
   "source": [
    "# data preprocessing"
   ]
  },
  {
   "cell_type": "code",
   "execution_count": 8,
   "id": "6f61621d",
   "metadata": {},
   "outputs": [
    {
     "data": {
      "text/plain": [
       "Index(['age', 'gender', 'polyuria', 'polydipsia', 'sudden_weight_loss',\n",
       "       'weakness', 'polyphagia', 'genital_thrush', 'visual_blurring',\n",
       "       'itching', 'irritability', 'delayed_healing', 'partial_paresis',\n",
       "       'muscle_stiffness', 'alopecia', 'obesity', 'class'],\n",
       "      dtype='object')"
      ]
     },
     "execution_count": 8,
     "metadata": {},
     "output_type": "execute_result"
    }
   ],
   "source": [
    "df.columns"
   ]
  },
  {
   "cell_type": "code",
   "execution_count": 9,
   "id": "395bfb6e",
   "metadata": {},
   "outputs": [],
   "source": [
    "feature_columns = ['age','gender','polyuria', 'polydipsia', 'sudden_weight_loss',\n",
    "       'weakness', 'polyphagia', 'genital_thrush', 'visual_blurring',\n",
    "       'itching', 'irritability', 'delayed_healing', 'partial_paresis',\n",
    "       'muscle_stiffness', 'alopecia', 'obesity']"
   ]
  },
  {
   "cell_type": "code",
   "execution_count": 10,
   "id": "9fdc6959",
   "metadata": {},
   "outputs": [
    {
     "data": {
      "text/html": [
       "<div>\n",
       "<style scoped>\n",
       "    .dataframe tbody tr th:only-of-type {\n",
       "        vertical-align: middle;\n",
       "    }\n",
       "\n",
       "    .dataframe tbody tr th {\n",
       "        vertical-align: top;\n",
       "    }\n",
       "\n",
       "    .dataframe thead th {\n",
       "        text-align: right;\n",
       "    }\n",
       "</style>\n",
       "<table border=\"1\" class=\"dataframe\">\n",
       "  <thead>\n",
       "    <tr style=\"text-align: right;\">\n",
       "      <th></th>\n",
       "      <th>age</th>\n",
       "      <th>gender</th>\n",
       "      <th>polyuria</th>\n",
       "      <th>polydipsia</th>\n",
       "      <th>sudden_weight_loss</th>\n",
       "      <th>weakness</th>\n",
       "      <th>polyphagia</th>\n",
       "      <th>genital_thrush</th>\n",
       "      <th>visual_blurring</th>\n",
       "      <th>itching</th>\n",
       "      <th>irritability</th>\n",
       "      <th>delayed_healing</th>\n",
       "      <th>partial_paresis</th>\n",
       "      <th>muscle_stiffness</th>\n",
       "      <th>alopecia</th>\n",
       "      <th>obesity</th>\n",
       "      <th>class</th>\n",
       "    </tr>\n",
       "  </thead>\n",
       "  <tbody>\n",
       "    <tr>\n",
       "      <th>0</th>\n",
       "      <td>40</td>\n",
       "      <td>0</td>\n",
       "      <td>0</td>\n",
       "      <td>1</td>\n",
       "      <td>0</td>\n",
       "      <td>1</td>\n",
       "      <td>0</td>\n",
       "      <td>0</td>\n",
       "      <td>0</td>\n",
       "      <td>1</td>\n",
       "      <td>0</td>\n",
       "      <td>1</td>\n",
       "      <td>0</td>\n",
       "      <td>1</td>\n",
       "      <td>1</td>\n",
       "      <td>1</td>\n",
       "      <td>Positive</td>\n",
       "    </tr>\n",
       "    <tr>\n",
       "      <th>1</th>\n",
       "      <td>58</td>\n",
       "      <td>0</td>\n",
       "      <td>0</td>\n",
       "      <td>0</td>\n",
       "      <td>0</td>\n",
       "      <td>1</td>\n",
       "      <td>0</td>\n",
       "      <td>0</td>\n",
       "      <td>1</td>\n",
       "      <td>0</td>\n",
       "      <td>0</td>\n",
       "      <td>0</td>\n",
       "      <td>1</td>\n",
       "      <td>0</td>\n",
       "      <td>1</td>\n",
       "      <td>0</td>\n",
       "      <td>Positive</td>\n",
       "    </tr>\n",
       "    <tr>\n",
       "      <th>2</th>\n",
       "      <td>41</td>\n",
       "      <td>0</td>\n",
       "      <td>1</td>\n",
       "      <td>0</td>\n",
       "      <td>0</td>\n",
       "      <td>1</td>\n",
       "      <td>1</td>\n",
       "      <td>0</td>\n",
       "      <td>0</td>\n",
       "      <td>1</td>\n",
       "      <td>0</td>\n",
       "      <td>1</td>\n",
       "      <td>0</td>\n",
       "      <td>1</td>\n",
       "      <td>1</td>\n",
       "      <td>0</td>\n",
       "      <td>Positive</td>\n",
       "    </tr>\n",
       "    <tr>\n",
       "      <th>3</th>\n",
       "      <td>45</td>\n",
       "      <td>0</td>\n",
       "      <td>0</td>\n",
       "      <td>0</td>\n",
       "      <td>1</td>\n",
       "      <td>1</td>\n",
       "      <td>1</td>\n",
       "      <td>1</td>\n",
       "      <td>0</td>\n",
       "      <td>1</td>\n",
       "      <td>0</td>\n",
       "      <td>1</td>\n",
       "      <td>0</td>\n",
       "      <td>0</td>\n",
       "      <td>0</td>\n",
       "      <td>0</td>\n",
       "      <td>Positive</td>\n",
       "    </tr>\n",
       "    <tr>\n",
       "      <th>4</th>\n",
       "      <td>60</td>\n",
       "      <td>0</td>\n",
       "      <td>1</td>\n",
       "      <td>1</td>\n",
       "      <td>1</td>\n",
       "      <td>1</td>\n",
       "      <td>1</td>\n",
       "      <td>0</td>\n",
       "      <td>1</td>\n",
       "      <td>1</td>\n",
       "      <td>1</td>\n",
       "      <td>1</td>\n",
       "      <td>1</td>\n",
       "      <td>1</td>\n",
       "      <td>1</td>\n",
       "      <td>1</td>\n",
       "      <td>Positive</td>\n",
       "    </tr>\n",
       "  </tbody>\n",
       "</table>\n",
       "</div>"
      ],
      "text/plain": [
       "   age  gender  polyuria  polydipsia  sudden_weight_loss  weakness  \\\n",
       "0   40       0         0           1                   0         1   \n",
       "1   58       0         0           0                   0         1   \n",
       "2   41       0         1           0                   0         1   \n",
       "3   45       0         0           0                   1         1   \n",
       "4   60       0         1           1                   1         1   \n",
       "\n",
       "   polyphagia  genital_thrush  visual_blurring  itching  irritability  \\\n",
       "0           0               0                0        1             0   \n",
       "1           0               0                1        0             0   \n",
       "2           1               0                0        1             0   \n",
       "3           1               1                0        1             0   \n",
       "4           1               0                1        1             1   \n",
       "\n",
       "   delayed_healing  partial_paresis  muscle_stiffness  alopecia  obesity  \\\n",
       "0                1                0                 1         1        1   \n",
       "1                0                1                 0         1        0   \n",
       "2                1                0                 1         1        0   \n",
       "3                1                0                 0         0        0   \n",
       "4                1                1                 1         1        1   \n",
       "\n",
       "      class  \n",
       "0  Positive  \n",
       "1  Positive  \n",
       "2  Positive  \n",
       "3  Positive  \n",
       "4  Positive  "
      ]
     },
     "execution_count": 10,
     "metadata": {},
     "output_type": "execute_result"
    }
   ],
   "source": [
    "mymap = {'Yes':1, 'No':0,'Male':0, 'Female':1}\n",
    "for i in feature_columns:\n",
    "    if i=='age':\n",
    "        continue\n",
    "    df[i]=df[i].map(mymap)\n",
    "df.head()\n"
   ]
  },
  {
   "cell_type": "code",
   "execution_count": 11,
   "id": "de5dca55",
   "metadata": {},
   "outputs": [
    {
     "data": {
      "text/html": [
       "<div>\n",
       "<style scoped>\n",
       "    .dataframe tbody tr th:only-of-type {\n",
       "        vertical-align: middle;\n",
       "    }\n",
       "\n",
       "    .dataframe tbody tr th {\n",
       "        vertical-align: top;\n",
       "    }\n",
       "\n",
       "    .dataframe thead th {\n",
       "        text-align: right;\n",
       "    }\n",
       "</style>\n",
       "<table border=\"1\" class=\"dataframe\">\n",
       "  <thead>\n",
       "    <tr style=\"text-align: right;\">\n",
       "      <th></th>\n",
       "      <th>age</th>\n",
       "      <th>gender</th>\n",
       "      <th>polyuria</th>\n",
       "      <th>polydipsia</th>\n",
       "      <th>sudden_weight_loss</th>\n",
       "      <th>weakness</th>\n",
       "      <th>polyphagia</th>\n",
       "      <th>genital_thrush</th>\n",
       "      <th>visual_blurring</th>\n",
       "      <th>itching</th>\n",
       "      <th>irritability</th>\n",
       "      <th>delayed_healing</th>\n",
       "      <th>partial_paresis</th>\n",
       "      <th>muscle_stiffness</th>\n",
       "      <th>alopecia</th>\n",
       "      <th>obesity</th>\n",
       "      <th>class</th>\n",
       "    </tr>\n",
       "  </thead>\n",
       "  <tbody>\n",
       "    <tr>\n",
       "      <th>515</th>\n",
       "      <td>39</td>\n",
       "      <td>1</td>\n",
       "      <td>1</td>\n",
       "      <td>1</td>\n",
       "      <td>1</td>\n",
       "      <td>0</td>\n",
       "      <td>1</td>\n",
       "      <td>0</td>\n",
       "      <td>0</td>\n",
       "      <td>1</td>\n",
       "      <td>0</td>\n",
       "      <td>1</td>\n",
       "      <td>1</td>\n",
       "      <td>0</td>\n",
       "      <td>0</td>\n",
       "      <td>0</td>\n",
       "      <td>Positive</td>\n",
       "    </tr>\n",
       "    <tr>\n",
       "      <th>516</th>\n",
       "      <td>48</td>\n",
       "      <td>1</td>\n",
       "      <td>1</td>\n",
       "      <td>1</td>\n",
       "      <td>1</td>\n",
       "      <td>1</td>\n",
       "      <td>1</td>\n",
       "      <td>0</td>\n",
       "      <td>0</td>\n",
       "      <td>1</td>\n",
       "      <td>1</td>\n",
       "      <td>1</td>\n",
       "      <td>1</td>\n",
       "      <td>0</td>\n",
       "      <td>0</td>\n",
       "      <td>0</td>\n",
       "      <td>Positive</td>\n",
       "    </tr>\n",
       "    <tr>\n",
       "      <th>517</th>\n",
       "      <td>58</td>\n",
       "      <td>1</td>\n",
       "      <td>1</td>\n",
       "      <td>1</td>\n",
       "      <td>1</td>\n",
       "      <td>1</td>\n",
       "      <td>1</td>\n",
       "      <td>0</td>\n",
       "      <td>1</td>\n",
       "      <td>0</td>\n",
       "      <td>0</td>\n",
       "      <td>0</td>\n",
       "      <td>1</td>\n",
       "      <td>1</td>\n",
       "      <td>0</td>\n",
       "      <td>1</td>\n",
       "      <td>Positive</td>\n",
       "    </tr>\n",
       "    <tr>\n",
       "      <th>518</th>\n",
       "      <td>32</td>\n",
       "      <td>1</td>\n",
       "      <td>0</td>\n",
       "      <td>0</td>\n",
       "      <td>0</td>\n",
       "      <td>1</td>\n",
       "      <td>0</td>\n",
       "      <td>0</td>\n",
       "      <td>1</td>\n",
       "      <td>1</td>\n",
       "      <td>0</td>\n",
       "      <td>1</td>\n",
       "      <td>0</td>\n",
       "      <td>0</td>\n",
       "      <td>1</td>\n",
       "      <td>0</td>\n",
       "      <td>Negative</td>\n",
       "    </tr>\n",
       "    <tr>\n",
       "      <th>519</th>\n",
       "      <td>42</td>\n",
       "      <td>0</td>\n",
       "      <td>0</td>\n",
       "      <td>0</td>\n",
       "      <td>0</td>\n",
       "      <td>0</td>\n",
       "      <td>0</td>\n",
       "      <td>0</td>\n",
       "      <td>0</td>\n",
       "      <td>0</td>\n",
       "      <td>0</td>\n",
       "      <td>0</td>\n",
       "      <td>0</td>\n",
       "      <td>0</td>\n",
       "      <td>0</td>\n",
       "      <td>0</td>\n",
       "      <td>Negative</td>\n",
       "    </tr>\n",
       "  </tbody>\n",
       "</table>\n",
       "</div>"
      ],
      "text/plain": [
       "     age  gender  polyuria  polydipsia  sudden_weight_loss  weakness  \\\n",
       "515   39       1         1           1                   1         0   \n",
       "516   48       1         1           1                   1         1   \n",
       "517   58       1         1           1                   1         1   \n",
       "518   32       1         0           0                   0         1   \n",
       "519   42       0         0           0                   0         0   \n",
       "\n",
       "     polyphagia  genital_thrush  visual_blurring  itching  irritability  \\\n",
       "515           1               0                0        1             0   \n",
       "516           1               0                0        1             1   \n",
       "517           1               0                1        0             0   \n",
       "518           0               0                1        1             0   \n",
       "519           0               0                0        0             0   \n",
       "\n",
       "     delayed_healing  partial_paresis  muscle_stiffness  alopecia  obesity  \\\n",
       "515                1                1                 0         0        0   \n",
       "516                1                1                 0         0        0   \n",
       "517                0                1                 1         0        1   \n",
       "518                1                0                 0         1        0   \n",
       "519                0                0                 0         0        0   \n",
       "\n",
       "        class  \n",
       "515  Positive  \n",
       "516  Positive  \n",
       "517  Positive  \n",
       "518  Negative  \n",
       "519  Negative  "
      ]
     },
     "execution_count": 11,
     "metadata": {},
     "output_type": "execute_result"
    }
   ],
   "source": [
    "df.tail()"
   ]
  },
  {
   "cell_type": "markdown",
   "id": "704f25f7",
   "metadata": {},
   "source": [
    "# Model selection and metrics functions"
   ]
  },
  {
   "cell_type": "code",
   "execution_count": 12,
   "id": "601f30df",
   "metadata": {},
   "outputs": [],
   "source": [
    "from sklearn.model_selection import train_test_split\n",
    "\n",
    "\n",
    "X = df[feature_columns]\n",
    "y = df['class']\n",
    "\n",
    "X_train, X_test, y_train, y_test = train_test_split(X, y, test_size=0.3, random_state=42)"
   ]
  },
  {
   "cell_type": "code",
   "execution_count": 13,
   "id": "70218a9b",
   "metadata": {},
   "outputs": [],
   "source": [
    "from sklearn.metrics import confusion_matrix, accuracy_score, classification_report\n",
    "\n",
    "\n",
    "def evaluate(model, X_train, X_test, y_train, y_test):\n",
    "    y_test_pred = model.predict(X_test)\n",
    "    y_train_pred = model.predict(X_train)\n",
    "    list1 = []\n",
    "    print(\"TRAINIG RESULTS: \\n===============================\")\n",
    "    clf_report = pd.DataFrame(classification_report(y_train, y_train_pred, output_dict=True))\n",
    "    print(f\"CONFUSION MATRIX:\\n{confusion_matrix(y_train, y_train_pred)}\")\n",
    "    print(f\"ACCURACY SCORE:\\n{accuracy_score(y_train, y_train_pred):.4f}\")\n",
    "    print(f\"CLASSIFICATION REPORT:\\n{clf_report}\")\n",
    "    list1=[clf_report]\n",
    "    print(\"TESTING RESULTS: \\n===============================\")\n",
    "    clf_report = pd.DataFrame(classification_report(y_test, y_test_pred, output_dict=True))\n",
    "    print(f\"CONFUSION MATRIX:\\n{confusion_matrix(y_test, y_test_pred)}\")\n",
    "    print(f\"ACCURACY SCORE:\\n{accuracy_score(y_test, y_test_pred):.4f}\")\n",
    "    print(f\"CLASSIFICATION REPORT:\\n{clf_report}\")\n",
    "    list1.append(clf_report)\n",
    "    return list1"
   ]
  },
  {
   "cell_type": "markdown",
   "id": "be000f52",
   "metadata": {},
   "source": [
    "# ADABOOST algorithm"
   ]
  },
  {
   "cell_type": "code",
   "execution_count": 14,
   "id": "deee4528",
   "metadata": {},
   "outputs": [
    {
     "name": "stdout",
     "output_type": "stream",
     "text": [
      "TRAINIG RESULTS: \n",
      "===============================\n",
      "CONFUSION MATRIX:\n",
      "[[138   8]\n",
      " [ 14 204]]\n",
      "ACCURACY SCORE:\n",
      "0.9396\n",
      "CLASSIFICATION REPORT:\n",
      "           Negative  Positive  accuracy  macro avg  weighted avg\n",
      "precision      0.91      0.96      0.94       0.94          0.94\n",
      "recall         0.95      0.94      0.94       0.94          0.94\n",
      "f1-score       0.93      0.95      0.94       0.94          0.94\n",
      "support      146.00    218.00      0.94     364.00        364.00\n",
      "TESTING RESULTS: \n",
      "===============================\n",
      "CONFUSION MATRIX:\n",
      "[[50  4]\n",
      " [ 5 97]]\n",
      "ACCURACY SCORE:\n",
      "0.9423\n",
      "CLASSIFICATION REPORT:\n",
      "           Negative  Positive  accuracy  macro avg  weighted avg\n",
      "precision      0.91      0.96      0.94       0.93          0.94\n",
      "recall         0.93      0.95      0.94       0.94          0.94\n",
      "f1-score       0.92      0.96      0.94       0.94          0.94\n",
      "support       54.00    102.00      0.94     156.00        156.00\n"
     ]
    }
   ],
   "source": [
    "from sklearn.ensemble import AdaBoostClassifier\n",
    "\n",
    "ada_boost_clf = AdaBoostClassifier(n_estimators=30)\n",
    "ada_boost_clf.fit(X_train, y_train)\n",
    "list2 = evaluate(ada_boost_clf, X_train, X_test, y_train, y_test)\n",
    "\n",
    "scores['AdaBoost'] = {\n",
    "        'Train': accuracy_score(y_train, ada_boost_clf.predict(X_train)),\n",
    "        'Test': accuracy_score(y_test, ada_boost_clf.predict(X_test)),\n",
    "    }"
   ]
  },
  {
   "cell_type": "code",
   "execution_count": 15,
   "id": "62336051",
   "metadata": {},
   "outputs": [],
   "source": [
    "df3 = list2[0]\n",
    "df3 = df3.head(3)\n",
    "df4 = list2[1]\n",
    "df4 = df4.head(3)"
   ]
  },
  {
   "cell_type": "code",
   "execution_count": 16,
   "id": "12eda76e",
   "metadata": {},
   "outputs": [],
   "source": [
    "df3\n",
    "writer = pd.ExcelWriter('df3.xlsx')\n",
    "df3.to_excel(writer)\n",
    "writer.save()"
   ]
  },
  {
   "cell_type": "code",
   "execution_count": 17,
   "id": "f3ec90fb",
   "metadata": {},
   "outputs": [
    {
     "data": {
      "text/plain": [
       "<matplotlib.legend.Legend at 0x1d5495a3be0>"
      ]
     },
     "execution_count": 17,
     "metadata": {},
     "output_type": "execute_result"
    },
    {
     "data": {
      "image/png": "[encoded data removed]",
      "text/plain": [
       "<Figure size 360x288 with 1 Axes>"
      ]
     },
     "metadata": {},
     "output_type": "display_data"
    }
   ],
   "source": [
    "df3.plot(y=df3.columns,kind=\"bar\", figsize=(5,4))\n",
    "plt.legend(bbox_to_anchor=(1.05,1))"
   ]
  },
  {
   "cell_type": "code",
   "execution_count": 18,
   "id": "5054ff8e",
   "metadata": {},
   "outputs": [],
   "source": [
    "df4\n",
    "writer = pd.ExcelWriter('df4.xlsx')\n",
    "df4.to_excel(writer)\n",
    "writer.save()"
   ]
  },
  {
   "cell_type": "code",
   "execution_count": 19,
   "id": "d82859ba",
   "metadata": {},
   "outputs": [
    {
     "data": {
      "text/plain": [
       "<matplotlib.legend.Legend at 0x1d5495b3910>"
      ]
     },
     "execution_count": 19,
     "metadata": {},
     "output_type": "execute_result"
    },
    {
     "data": {
      "image/png": "[encoded data removed]",
      "text/plain": [
       "<Figure size 360x288 with 1 Axes>"
      ]
     },
     "metadata": {},
     "output_type": "display_data"
    }
   ],
   "source": [
    "df4.plot(y=df4.columns,kind=\"bar\", figsize=(5,4))\n",
    "plt.legend(bbox_to_anchor=(1.05,1))"
   ]
  },
  {
   "cell_type": "markdown",
   "id": "6b3dd86f",
   "metadata": {},
   "source": [
    "# RANDOM FOREST algorithm"
   ]
  },
  {
   "cell_type": "code",
   "execution_count": 20,
   "id": "e0a4e55a",
   "metadata": {},
   "outputs": [
    {
     "name": "stdout",
     "output_type": "stream",
     "text": [
      "TRAINIG RESULTS: \n",
      "===============================\n",
      "CONFUSION MATRIX:\n",
      "[[146   0]\n",
      " [  0 218]]\n",
      "ACCURACY SCORE:\n",
      "1.0000\n",
      "CLASSIFICATION REPORT:\n",
      "           Negative  Positive  accuracy  macro avg  weighted avg\n",
      "precision      1.00      1.00      1.00       1.00          1.00\n",
      "recall         1.00      1.00      1.00       1.00          1.00\n",
      "f1-score       1.00      1.00      1.00       1.00          1.00\n",
      "support      146.00    218.00      1.00     364.00        364.00\n",
      "TESTING RESULTS: \n",
      "===============================\n",
      "CONFUSION MATRIX:\n",
      "[[ 54   0]\n",
      " [  1 101]]\n",
      "ACCURACY SCORE:\n",
      "0.9936\n",
      "CLASSIFICATION REPORT:\n",
      "           Negative  Positive  accuracy  macro avg  weighted avg\n",
      "precision      0.98      1.00      0.99       0.99          0.99\n",
      "recall         1.00      0.99      0.99       1.00          0.99\n",
      "f1-score       0.99      1.00      0.99       0.99          0.99\n",
      "support       54.00    102.00      0.99     156.00        156.00\n"
     ]
    }
   ],
   "source": [
    "from sklearn.ensemble import RandomForestClassifier\n",
    "\n",
    "rf_clf = RandomForestClassifier(random_state=42, n_estimators=1000)\n",
    "rf_clf.fit(X_train, y_train)\n",
    "list3 = evaluate(rf_clf, X_train, X_test, y_train, y_test)\n",
    "\n",
    "scores['Random Forest'] = {\n",
    "        'Train': accuracy_score(y_train, rf_clf.predict(X_train)),\n",
    "        'Test': accuracy_score(y_test, rf_clf.predict(X_test)),\n",
    "    }"
   ]
  },
  {
   "cell_type": "code",
   "execution_count": 21,
   "id": "ab4e23cb",
   "metadata": {},
   "outputs": [],
   "source": [
    "df5 = list3[0]\n",
    "df5 = df5.head(3)\n",
    "df6 = list3[1]\n",
    "df6 = df6.head(3)"
   ]
  },
  {
   "cell_type": "code",
   "execution_count": 22,
   "id": "3310548b",
   "metadata": {},
   "outputs": [
    {
     "data": {
      "text/html": [
       "<div>\n",
       "<style scoped>\n",
       "    .dataframe tbody tr th:only-of-type {\n",
       "        vertical-align: middle;\n",
       "    }\n",
       "\n",
       "    .dataframe tbody tr th {\n",
       "        vertical-align: top;\n",
       "    }\n",
       "\n",
       "    .dataframe thead th {\n",
       "        text-align: right;\n",
       "    }\n",
       "</style>\n",
       "<table border=\"1\" class=\"dataframe\">\n",
       "  <thead>\n",
       "    <tr style=\"text-align: right;\">\n",
       "      <th></th>\n",
       "      <th>Negative</th>\n",
       "      <th>Positive</th>\n",
       "      <th>accuracy</th>\n",
       "      <th>macro avg</th>\n",
       "      <th>weighted avg</th>\n",
       "    </tr>\n",
       "  </thead>\n",
       "  <tbody>\n",
       "    <tr>\n",
       "      <th>precision</th>\n",
       "      <td>1.00</td>\n",
       "      <td>1.00</td>\n",
       "      <td>1.00</td>\n",
       "      <td>1.00</td>\n",
       "      <td>1.00</td>\n",
       "    </tr>\n",
       "    <tr>\n",
       "      <th>recall</th>\n",
       "      <td>1.00</td>\n",
       "      <td>1.00</td>\n",
       "      <td>1.00</td>\n",
       "      <td>1.00</td>\n",
       "      <td>1.00</td>\n",
       "    </tr>\n",
       "    <tr>\n",
       "      <th>f1-score</th>\n",
       "      <td>1.00</td>\n",
       "      <td>1.00</td>\n",
       "      <td>1.00</td>\n",
       "      <td>1.00</td>\n",
       "      <td>1.00</td>\n",
       "    </tr>\n",
       "  </tbody>\n",
       "</table>\n",
       "</div>"
      ],
      "text/plain": [
       "           Negative  Positive  accuracy  macro avg  weighted avg\n",
       "precision      1.00      1.00      1.00       1.00          1.00\n",
       "recall         1.00      1.00      1.00       1.00          1.00\n",
       "f1-score       1.00      1.00      1.00       1.00          1.00"
      ]
     },
     "execution_count": 22,
     "metadata": {},
     "output_type": "execute_result"
    }
   ],
   "source": [
    "writer = pd.ExcelWriter('df5.xlsx')\n",
    "df5.to_excel(writer)\n",
    "writer.save()\n",
    "df5"
   ]
  },
  {
   "cell_type": "code",
   "execution_count": 23,
   "id": "9749b6b6",
   "metadata": {},
   "outputs": [
    {
     "data": {
      "text/plain": [
       "<matplotlib.legend.Legend at 0x1d5493ba8e0>"
      ]
     },
     "execution_count": 23,
     "metadata": {},
     "output_type": "execute_result"
    },
    {
     "data": {
      "image/png": "[encoded data removed]",
      "text/plain": [
       "<Figure size 360x288 with 1 Axes>"
      ]
     },
     "metadata": {},
     "output_type": "display_data"
    }
   ],
   "source": [
    "df5.plot(y=df5.columns,kind=\"bar\", figsize=(5,4))\n",
    "plt.legend(bbox_to_anchor=(1.05,1))"
   ]
  },
  {
   "cell_type": "code",
   "execution_count": 24,
   "id": "8786e20b",
   "metadata": {},
   "outputs": [
    {
     "data": {
      "text/html": [
       "<div>\n",
       "<style scoped>\n",
       "    .dataframe tbody tr th:only-of-type {\n",
       "        vertical-align: middle;\n",
       "    }\n",
       "\n",
       "    .dataframe tbody tr th {\n",
       "        vertical-align: top;\n",
       "    }\n",
       "\n",
       "    .dataframe thead th {\n",
       "        text-align: right;\n",
       "    }\n",
       "</style>\n",
       "<table border=\"1\" class=\"dataframe\">\n",
       "  <thead>\n",
       "    <tr style=\"text-align: right;\">\n",
       "      <th></th>\n",
       "      <th>Negative</th>\n",
       "      <th>Positive</th>\n",
       "      <th>accuracy</th>\n",
       "      <th>macro avg</th>\n",
       "      <th>weighted avg</th>\n",
       "    </tr>\n",
       "  </thead>\n",
       "  <tbody>\n",
       "    <tr>\n",
       "      <th>precision</th>\n",
       "      <td>0.98</td>\n",
       "      <td>1.00</td>\n",
       "      <td>0.99</td>\n",
       "      <td>0.99</td>\n",
       "      <td>0.99</td>\n",
       "    </tr>\n",
       "    <tr>\n",
       "      <th>recall</th>\n",
       "      <td>1.00</td>\n",
       "      <td>0.99</td>\n",
       "      <td>0.99</td>\n",
       "      <td>1.00</td>\n",
       "      <td>0.99</td>\n",
       "    </tr>\n",
       "    <tr>\n",
       "      <th>f1-score</th>\n",
       "      <td>0.99</td>\n",
       "      <td>1.00</td>\n",
       "      <td>0.99</td>\n",
       "      <td>0.99</td>\n",
       "      <td>0.99</td>\n",
       "    </tr>\n",
       "  </tbody>\n",
       "</table>\n",
       "</div>"
      ],
      "text/plain": [
       "           Negative  Positive  accuracy  macro avg  weighted avg\n",
       "precision      0.98      1.00      0.99       0.99          0.99\n",
       "recall         1.00      0.99      0.99       1.00          0.99\n",
       "f1-score       0.99      1.00      0.99       0.99          0.99"
      ]
     },
     "execution_count": 24,
     "metadata": {},
     "output_type": "execute_result"
    }
   ],
   "source": [
    "writer = pd.ExcelWriter('df6.xlsx')\n",
    "df6.to_excel(writer)\n",
    "writer.save()\n",
    "df6"
   ]
  },
  {
   "cell_type": "code",
   "execution_count": 25,
   "id": "a2da2c6f",
   "metadata": {},
   "outputs": [
    {
     "data": {
      "text/plain": [
       "<matplotlib.legend.Legend at 0x1d54aefdac0>"
      ]
     },
     "execution_count": 25,
     "metadata": {},
     "output_type": "execute_result"
    },
    {
     "data": {
      "image/png": "[encoded data removed]",
      "text/plain": [
       "<Figure size 360x288 with 1 Axes>"
      ]
     },
     "metadata": {},
     "output_type": "display_data"
    }
   ],
   "source": [
    "df6.plot(y=df6.columns,kind=\"bar\", figsize=(5,4))\n",
    "plt.legend(bbox_to_anchor=(1.05,1))"
   ]
  },
  {
   "cell_type": "markdown",
   "id": "097ff250",
   "metadata": {},
   "source": [
    "# LOGISTIC REGRESSION algorithm"
   ]
  },
  {
   "cell_type": "code",
   "execution_count": 26,
   "id": "260774f4",
   "metadata": {},
   "outputs": [
    {
     "name": "stdout",
     "output_type": "stream",
     "text": [
      "TRAINIG RESULTS: \n",
      "===============================\n",
      "CONFUSION MATRIX:\n",
      "[[136  10]\n",
      " [ 15 203]]\n",
      "ACCURACY SCORE:\n",
      "0.9313\n",
      "CLASSIFICATION REPORT:\n",
      "           Negative  Positive  accuracy  macro avg  weighted avg\n",
      "precision      0.90      0.95      0.93       0.93          0.93\n",
      "recall         0.93      0.93      0.93       0.93          0.93\n",
      "f1-score       0.92      0.94      0.93       0.93          0.93\n",
      "support      146.00    218.00      0.93     364.00        364.00\n",
      "TESTING RESULTS: \n",
      "===============================\n",
      "CONFUSION MATRIX:\n",
      "[[49  5]\n",
      " [ 5 97]]\n",
      "ACCURACY SCORE:\n",
      "0.9359\n",
      "CLASSIFICATION REPORT:\n",
      "           Negative  Positive  accuracy  macro avg  weighted avg\n",
      "precision      0.91      0.95      0.94       0.93          0.94\n",
      "recall         0.91      0.95      0.94       0.93          0.94\n",
      "f1-score       0.91      0.95      0.94       0.93          0.94\n",
      "support       54.00    102.00      0.94     156.00        156.00\n"
     ]
    },
    {
     "name": "stderr",
     "output_type": "stream",
     "text": [
      "C:\\ProgramData\\Anaconda3\\lib\\site-packages\\sklearn\\linear_model\\_logistic.py:814: ConvergenceWarning: lbfgs failed to converge (status=1):\n",
      "STOP: TOTAL NO. of ITERATIONS REACHED LIMIT.\n",
      "\n",
      "Increase the number of iterations (max_iter) or scale the data as shown in:\n",
      "    https://scikit-learn.org/stable/modules/preprocessing.html\n",
      "Please also refer to the documentation for alternative solver options:\n",
      "    https://scikit-learn.org/stable/modules/linear_model.html#logistic-regression\n",
      "  n_iter_i = _check_optimize_result(\n"
     ]
    }
   ],
   "source": [
    "from sklearn.linear_model import LogisticRegression\n",
    "\n",
    "log_reg = LogisticRegression()\n",
    "log_reg.fit(X_train, y_train)\n",
    "list4 = evaluate(log_reg, X_train, X_test, y_train, y_test)\n",
    "\n",
    "scores['LogisticRegression'] = {\n",
    "        'Train': accuracy_score(y_train, ada_boost_clf.predict(X_train)),\n",
    "        'Test': accuracy_score(y_test, ada_boost_clf.predict(X_test)),\n",
    "    }"
   ]
  },
  {
   "cell_type": "code",
   "execution_count": 27,
   "id": "8fb8fd9d",
   "metadata": {},
   "outputs": [],
   "source": [
    "df7 = list4[0]\n",
    "df7 = df7.head(3)\n",
    "df8 = list4[1]\n",
    "df8 = df8.head(3)"
   ]
  },
  {
   "cell_type": "code",
   "execution_count": 28,
   "id": "df912135",
   "metadata": {},
   "outputs": [
    {
     "data": {
      "text/html": [
       "<div>\n",
       "<style scoped>\n",
       "    .dataframe tbody tr th:only-of-type {\n",
       "        vertical-align: middle;\n",
       "    }\n",
       "\n",
       "    .dataframe tbody tr th {\n",
       "        vertical-align: top;\n",
       "    }\n",
       "\n",
       "    .dataframe thead th {\n",
       "        text-align: right;\n",
       "    }\n",
       "</style>\n",
       "<table border=\"1\" class=\"dataframe\">\n",
       "  <thead>\n",
       "    <tr style=\"text-align: right;\">\n",
       "      <th></th>\n",
       "      <th>Negative</th>\n",
       "      <th>Positive</th>\n",
       "      <th>accuracy</th>\n",
       "      <th>macro avg</th>\n",
       "      <th>weighted avg</th>\n",
       "    </tr>\n",
       "  </thead>\n",
       "  <tbody>\n",
       "    <tr>\n",
       "      <th>precision</th>\n",
       "      <td>0.90</td>\n",
       "      <td>0.95</td>\n",
       "      <td>0.93</td>\n",
       "      <td>0.93</td>\n",
       "      <td>0.93</td>\n",
       "    </tr>\n",
       "    <tr>\n",
       "      <th>recall</th>\n",
       "      <td>0.93</td>\n",
       "      <td>0.93</td>\n",
       "      <td>0.93</td>\n",
       "      <td>0.93</td>\n",
       "      <td>0.93</td>\n",
       "    </tr>\n",
       "    <tr>\n",
       "      <th>f1-score</th>\n",
       "      <td>0.92</td>\n",
       "      <td>0.94</td>\n",
       "      <td>0.93</td>\n",
       "      <td>0.93</td>\n",
       "      <td>0.93</td>\n",
       "    </tr>\n",
       "  </tbody>\n",
       "</table>\n",
       "</div>"
      ],
      "text/plain": [
       "           Negative  Positive  accuracy  macro avg  weighted avg\n",
       "precision      0.90      0.95      0.93       0.93          0.93\n",
       "recall         0.93      0.93      0.93       0.93          0.93\n",
       "f1-score       0.92      0.94      0.93       0.93          0.93"
      ]
     },
     "execution_count": 28,
     "metadata": {},
     "output_type": "execute_result"
    }
   ],
   "source": [
    "writer = pd.ExcelWriter('df7.xlsx')\n",
    "df7.to_excel(writer)\n",
    "writer.save()\n",
    "df7"
   ]
  },
  {
   "cell_type": "code",
   "execution_count": 29,
   "id": "fe0af442",
   "metadata": {},
   "outputs": [
    {
     "data": {
      "text/plain": [
       "<matplotlib.legend.Legend at 0x1d549d15fa0>"
      ]
     },
     "execution_count": 29,
     "metadata": {},
     "output_type": "execute_result"
    },
    {
     "data": {
      "image/png": "[encoded data removed]",
      "text/plain": [
       "<Figure size 360x288 with 1 Axes>"
      ]
     },
     "metadata": {},
     "output_type": "display_data"
    }
   ],
   "source": [
    "df7.plot(y=df7.columns,kind=\"bar\", figsize=(5,4))\n",
    "plt.legend(bbox_to_anchor=(1.05,1))"
   ]
  },
  {
   "cell_type": "code",
   "execution_count": 30,
   "id": "fa80cc72",
   "metadata": {},
   "outputs": [
    {
     "data": {
      "text/html": [
       "<div>\n",
       "<style scoped>\n",
       "    .dataframe tbody tr th:only-of-type {\n",
       "        vertical-align: middle;\n",
       "    }\n",
       "\n",
       "    .dataframe tbody tr th {\n",
       "        vertical-align: top;\n",
       "    }\n",
       "\n",
       "    .dataframe thead th {\n",
       "        text-align: right;\n",
       "    }\n",
       "</style>\n",
       "<table border=\"1\" class=\"dataframe\">\n",
       "  <thead>\n",
       "    <tr style=\"text-align: right;\">\n",
       "      <th></th>\n",
       "      <th>Negative</th>\n",
       "      <th>Positive</th>\n",
       "      <th>accuracy</th>\n",
       "      <th>macro avg</th>\n",
       "      <th>weighted avg</th>\n",
       "    </tr>\n",
       "  </thead>\n",
       "  <tbody>\n",
       "    <tr>\n",
       "      <th>precision</th>\n",
       "      <td>0.91</td>\n",
       "      <td>0.95</td>\n",
       "      <td>0.94</td>\n",
       "      <td>0.93</td>\n",
       "      <td>0.94</td>\n",
       "    </tr>\n",
       "    <tr>\n",
       "      <th>recall</th>\n",
       "      <td>0.91</td>\n",
       "      <td>0.95</td>\n",
       "      <td>0.94</td>\n",
       "      <td>0.93</td>\n",
       "      <td>0.94</td>\n",
       "    </tr>\n",
       "    <tr>\n",
       "      <th>f1-score</th>\n",
       "      <td>0.91</td>\n",
       "      <td>0.95</td>\n",
       "      <td>0.94</td>\n",
       "      <td>0.93</td>\n",
       "      <td>0.94</td>\n",
       "    </tr>\n",
       "  </tbody>\n",
       "</table>\n",
       "</div>"
      ],
      "text/plain": [
       "           Negative  Positive  accuracy  macro avg  weighted avg\n",
       "precision      0.91      0.95      0.94       0.93          0.94\n",
       "recall         0.91      0.95      0.94       0.93          0.94\n",
       "f1-score       0.91      0.95      0.94       0.93          0.94"
      ]
     },
     "execution_count": 30,
     "metadata": {},
     "output_type": "execute_result"
    }
   ],
   "source": [
    "writer = pd.ExcelWriter('df8.xlsx')\n",
    "df8.to_excel(writer)\n",
    "writer.save()\n",
    "df8"
   ]
  },
  {
   "cell_type": "code",
   "execution_count": 31,
   "id": "6d11eee8",
   "metadata": {},
   "outputs": [
    {
     "data": {
      "text/plain": [
       "<matplotlib.legend.Legend at 0x1d54aefdb20>"
      ]
     },
     "execution_count": 31,
     "metadata": {},
     "output_type": "execute_result"
    },
    {
     "data": {
      "image/png": "[encoded data removed]",
      "text/plain": [
       "<Figure size 360x288 with 1 Axes>"
      ]
     },
     "metadata": {},
     "output_type": "display_data"
    }
   ],
   "source": [
    "df8.plot(y=df8.columns,kind=\"bar\", figsize=(5,4))\n",
    "plt.legend(bbox_to_anchor=(1.05,1))"
   ]
  },
  {
   "cell_type": "markdown",
   "id": "f9e8f4a6",
   "metadata": {},
   "source": [
    "# MODEL COMPARISON"
   ]
  },
  {
   "cell_type": "code",
   "execution_count": 34,
   "id": "1e077e17",
   "metadata": {},
   "outputs": [
    {
     "data": {
      "text/plain": [
       "<matplotlib.legend.Legend at 0x1d549d153a0>"
      ]
     },
     "execution_count": 34,
     "metadata": {},
     "output_type": "execute_result"
    },
    {
     "data": {
      "image/png": "[encoded data removed]",
      "text/plain": [
       "<Figure size 360x432 with 1 Axes>"
      ]
     },
     "metadata": {},
     "output_type": "display_data"
    }
   ],
   "source": [
    "scores_df = pd.DataFrame(scores)\n",
    "\n",
    "scores_df.plot(kind='bar', figsize=(5, 6))\n",
    "plt.legend(bbox_to_anchor=(1.05,1))\n"
   ]
  },
  {
   "cell_type": "code",
   "execution_count": 33,
   "id": "6586993f",
   "metadata": {},
   "outputs": [
    {
     "data": {
      "text/html": [
       "<div>\n",
       "<style scoped>\n",
       "    .dataframe tbody tr th:only-of-type {\n",
       "        vertical-align: middle;\n",
       "    }\n",
       "\n",
       "    .dataframe tbody tr th {\n",
       "        vertical-align: top;\n",
       "    }\n",
       "\n",
       "    .dataframe thead th {\n",
       "        text-align: right;\n",
       "    }\n",
       "</style>\n",
       "<table border=\"1\" class=\"dataframe\">\n",
       "  <thead>\n",
       "    <tr style=\"text-align: right;\">\n",
       "      <th></th>\n",
       "      <th>AdaBoost</th>\n",
       "      <th>Random Forest</th>\n",
       "      <th>LogisticRegression</th>\n",
       "    </tr>\n",
       "  </thead>\n",
       "  <tbody>\n",
       "    <tr>\n",
       "      <th>Train</th>\n",
       "      <td>0.94</td>\n",
       "      <td>1.00</td>\n",
       "      <td>0.94</td>\n",
       "    </tr>\n",
       "    <tr>\n",
       "      <th>Test</th>\n",
       "      <td>0.94</td>\n",
       "      <td>0.99</td>\n",
       "      <td>0.94</td>\n",
       "    </tr>\n",
       "  </tbody>\n",
       "</table>\n",
       "</div>"
      ],
      "text/plain": [
       "       AdaBoost  Random Forest  LogisticRegression\n",
       "Train      0.94           1.00                0.94\n",
       "Test       0.94           0.99                0.94"
      ]
     },
     "execution_count": 33,
     "metadata": {},
     "output_type": "execute_result"
    }
   ],
   "source": [
    "writer = pd.ExcelWriter('scores.xlsx')\n",
    "scores_df.to_excel(writer)\n",
    "writer.save()\n",
    "scores_df"
   ]
  },
  {
   "cell_type": "code",
   "execution_count": null,
   "id": "cdd2553d",
   "metadata": {},
   "outputs": [],
   "source": []
  }
 ],
 "metadata": {
  "kernelspec": {
   "display_name": "Python 3 (ipykernel)",
   "language": "python",
   "name": "python3"
  },
  "language_info": {
   "codemirror_mode": {
    "name": "ipython",
    "version": 3
   },
   "file_extension": ".py",
   "mimetype": "text/x-python",
   "name": "python",
   "nbconvert_exporter": "python",
   "pygments_lexer": "ipython3",
   "version": "3.9.12"
  }
 },
 "nbformat": 4,
 "nbformat_minor": 5
}
